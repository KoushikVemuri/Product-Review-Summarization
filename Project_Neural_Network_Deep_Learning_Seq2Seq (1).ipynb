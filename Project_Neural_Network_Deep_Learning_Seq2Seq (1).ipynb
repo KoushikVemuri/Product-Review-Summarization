{
  "cells": [
    {
      "cell_type": "markdown",
      "metadata": {
        "id": "zRl7Qf7fNcUs"
      },
      "source": [
        "# Text Summarization using Seq2Seq LSTM."
      ]
    },
    {
      "cell_type": "code",
      "execution_count": 42,
      "metadata": {
        "_cell_guid": "b1076dfc-b9ad-4769-8c92-a6c4dae69d19",
        "_uuid": "8f2839f25d086af736a60e9eeb907d3b93b6e0e5",
        "colab": {
          "base_uri": "https://localhost:8080/"
        },
        "id": "_Jpu8qLEFxcY",
        "outputId": "95f77089-54c5-47a2-ff9f-959bd97875e7"
      },
      "outputs": [
        {
          "output_type": "stream",
          "name": "stderr",
          "text": [
            "[nltk_data] Downloading package stopwords to /root/nltk_data...\n",
            "[nltk_data]   Package stopwords is already up-to-date!\n"
          ]
        }
      ],
      "source": [
        "import numpy as np\n",
        "import pandas as pd\n",
        "import re\n",
        "from bs4 import BeautifulSoup\n",
        "from keras.preprocessing.text import Tokenizer\n",
        "from keras.preprocessing.sequence import pad_sequences\n",
        "from nltk.corpus import stopwords\n",
        "from tensorflow.keras.layers import Input, LSTM, Embedding, Dense, Concatenate, TimeDistributed\n",
        "from tensorflow.keras.models import Model\n",
        "from tensorflow.keras.callbacks import EarlyStopping\n",
        "import nltk\n",
        "nltk.download('stopwords')\n",
        "import warnings\n",
        "pd.set_option(\"display.max_colwidth\", 200)\n",
        "warnings.filterwarnings(\"ignore\")"
      ]
    },
    {
      "cell_type": "code",
      "execution_count": 43,
      "metadata": {
        "id": "wnK5o4Z1Fxcj"
      },
      "outputs": [],
      "source": [
        "data=pd.read_csv(\"/content/Amazon_Instant_Video_5.csv\",nrows=100000)"
      ]
    },
    {
      "cell_type": "markdown",
      "metadata": {
        "id": "kGNQKvCaISIn"
      },
      "source": [
        "# Drop Duplicates and NA values"
      ]
    },
    {
      "cell_type": "code",
      "execution_count": 44,
      "metadata": {
        "id": "Cjul88oOFxcr"
      },
      "outputs": [],
      "source": [
        "data.drop_duplicates(subset=['Text'],inplace=True)\n",
        "data.dropna(axis=0,inplace=True)"
      ]
    },
    {
      "cell_type": "code",
      "execution_count": 45,
      "metadata": {
        "colab": {
          "base_uri": "https://localhost:8080/"
        },
        "id": "__fy-JxTFxc9",
        "outputId": "96e05d46-494d-475c-bd97-392e854374a9"
      },
      "outputs": [
        {
          "output_type": "stream",
          "name": "stdout",
          "text": [
            "<class 'pandas.core.frame.DataFrame'>\n",
            "Index: 36787 entries, 0 to 37125\n",
            "Data columns (total 8 columns):\n",
            " #   Column                  Non-Null Count  Dtype \n",
            "---  ------                  --------------  ----- \n",
            " 0   UserId                  36787 non-null  object\n",
            " 1   ProductId               36787 non-null  object\n",
            " 2   ProfileName             36787 non-null  object\n",
            " 3   HelpfulnessNumerator    36787 non-null  int64 \n",
            " 4   HelpfulnessDenominator  36787 non-null  int64 \n",
            " 5   Text                    36787 non-null  object\n",
            " 6   Score                   36787 non-null  int64 \n",
            " 7   Summary                 36787 non-null  object\n",
            "dtypes: int64(3), object(5)\n",
            "memory usage: 2.5+ MB\n"
          ]
        }
      ],
      "source": [
        "data.info()"
      ]
    },
    {
      "cell_type": "code",
      "execution_count": 46,
      "metadata": {
        "id": "0s6IY-x2FxdL"
      },
      "outputs": [],
      "source": [
        "contraction_mapping = {\"ain't\": \"is not\", \"aren't\": \"are not\",\"can't\": \"cannot\", \"'cause\": \"because\", \"could've\": \"could have\", \"couldn't\": \"could not\",\n",
        "                           \"didn't\": \"did not\",  \"doesn't\": \"does not\", \"don't\": \"do not\", \"hadn't\": \"had not\", \"hasn't\": \"has not\", \"haven't\": \"have not\",\n",
        "                           \"he'd\": \"he would\",\"he'll\": \"he will\", \"he's\": \"he is\", \"how'd\": \"how did\", \"how'd'y\": \"how do you\", \"how'll\": \"how will\", \"how's\": \"how is\",\n",
        "                           \"I'd\": \"I would\", \"I'd've\": \"I would have\", \"I'll\": \"I will\", \"I'll've\": \"I will have\",\"I'm\": \"I am\", \"I've\": \"I have\", \"i'd\": \"i would\",\n",
        "                           \"i'd've\": \"i would have\", \"i'll\": \"i will\",  \"i'll've\": \"i will have\",\"i'm\": \"i am\", \"i've\": \"i have\", \"isn't\": \"is not\", \"it'd\": \"it would\",\n",
        "                           \"it'd've\": \"it would have\", \"it'll\": \"it will\", \"it'll've\": \"it will have\",\"it's\": \"it is\", \"let's\": \"let us\", \"ma'am\": \"madam\",\n",
        "                           \"mayn't\": \"may not\", \"might've\": \"might have\",\"mightn't\": \"might not\",\"mightn't've\": \"might not have\", \"must've\": \"must have\",\n",
        "                           \"mustn't\": \"must not\", \"mustn't've\": \"must not have\", \"needn't\": \"need not\", \"needn't've\": \"need not have\",\"o'clock\": \"of the clock\",\n",
        "                           \"oughtn't\": \"ought not\", \"oughtn't've\": \"ought not have\", \"shan't\": \"shall not\", \"sha'n't\": \"shall not\", \"shan't've\": \"shall not have\",\n",
        "                           \"she'd\": \"she would\", \"she'd've\": \"she would have\", \"she'll\": \"she will\", \"she'll've\": \"she will have\", \"she's\": \"she is\",\n",
        "                           \"should've\": \"should have\", \"shouldn't\": \"should not\", \"shouldn't've\": \"should not have\", \"so've\": \"so have\",\"so's\": \"so as\",\n",
        "                           \"this's\": \"this is\",\"that'd\": \"that would\", \"that'd've\": \"that would have\", \"that's\": \"that is\", \"there'd\": \"there would\",\n",
        "                           \"there'd've\": \"there would have\", \"there's\": \"there is\", \"here's\": \"here is\",\"they'd\": \"they would\", \"they'd've\": \"they would have\",\n",
        "                           \"they'll\": \"they will\", \"they'll've\": \"they will have\", \"they're\": \"they are\", \"they've\": \"they have\", \"to've\": \"to have\",\n",
        "                           \"wasn't\": \"was not\", \"we'd\": \"we would\", \"we'd've\": \"we would have\", \"we'll\": \"we will\", \"we'll've\": \"we will have\", \"we're\": \"we are\",\n",
        "                           \"we've\": \"we have\", \"weren't\": \"were not\", \"what'll\": \"what will\", \"what'll've\": \"what will have\", \"what're\": \"what are\",\n",
        "                           \"what's\": \"what is\", \"what've\": \"what have\", \"when's\": \"when is\", \"when've\": \"when have\", \"where'd\": \"where did\", \"where's\": \"where is\",\n",
        "                           \"where've\": \"where have\", \"who'll\": \"who will\", \"who'll've\": \"who will have\", \"who's\": \"who is\", \"who've\": \"who have\",\n",
        "                           \"why's\": \"why is\", \"why've\": \"why have\", \"will've\": \"will have\", \"won't\": \"will not\", \"won't've\": \"will not have\",\n",
        "                           \"would've\": \"would have\", \"wouldn't\": \"would not\", \"wouldn't've\": \"would not have\", \"y'all\": \"you all\",\n",
        "                           \"y'all'd\": \"you all would\",\"y'all'd've\": \"you all would have\",\"y'all're\": \"you all are\",\"y'all've\": \"you all have\",\n",
        "                           \"you'd\": \"you would\", \"you'd've\": \"you would have\", \"you'll\": \"you will\", \"you'll've\": \"you will have\",\n",
        "                           \"you're\": \"you are\", \"you've\": \"you have\"}"
      ]
    },
    {
      "cell_type": "code",
      "execution_count": 47,
      "metadata": {
        "id": "XZr-u3OEFxdT"
      },
      "outputs": [],
      "source": [
        "stop_words = set(stopwords.words('english'))\n",
        "\n",
        "def text_cleaner(text,num):\n",
        "    newString = text.lower()\n",
        "    newString = BeautifulSoup(newString, \"lxml\").text\n",
        "    newString = re.sub(r'\\([^)]*\\)', '', newString)\n",
        "    newString = re.sub('\"','', newString)\n",
        "    newString = ' '.join([contraction_mapping[t] if t in contraction_mapping else t for t in newString.split(\" \")])\n",
        "    newString = re.sub(r\"'s\\b\",\"\",newString)\n",
        "    newString = re.sub(\"[^a-zA-Z]\", \" \", newString)\n",
        "    newString = re.sub('[m]{2,}', 'mm', newString)\n",
        "    if(num==0):\n",
        "        tokens = [w for w in newString.split() if not w in stop_words]\n",
        "    else:\n",
        "        tokens=newString.split()\n",
        "    long_words=[]\n",
        "    for i in tokens:\n",
        "        if len(i)>1:                                                 #removing short word\n",
        "            long_words.append(i)\n",
        "    return (\" \".join(long_words)).strip()"
      ]
    },
    {
      "cell_type": "code",
      "execution_count": 48,
      "metadata": {
        "id": "A2QAeCHWFxdY"
      },
      "outputs": [],
      "source": [
        "#call the function\n",
        "cleaned_text = []\n",
        "for t in data['Text']:\n",
        "    cleaned_text.append(text_cleaner(t,0))"
      ]
    },
    {
      "cell_type": "code",
      "execution_count": 49,
      "metadata": {
        "colab": {
          "base_uri": "https://localhost:8080/"
        },
        "id": "NCAIkhWbFxdh",
        "outputId": "e7a8bfba-ad8e-4d58-8f66-5c64c35412fd"
      },
      "outputs": [
        {
          "output_type": "execute_result",
          "data": {
            "text/plain": [
              "['big expectations love english tv particular investigative detective stuff guy really boring appeal',\n",
              " 'highly recommend series must anyone yearning watch grown television complex characters plots keep one totally involved thank amazin prime',\n",
              " 'one real snoozer believe anything read hear awful idea title means neither',\n",
              " 'mysteries interesting tension robson tall blond good always believable often seemed uncomfortable',\n",
              " 'show always excellent far british crime mystery showsgoes one best ever made stories well done acting top notch interesting twists realistic brutal storylines show pulls punches enters twisted minds criminals profiler psychiatrist helps northern english city police force show looks like shot manchester called another name show one episode disc excellent prayer bone seperate disc still crime shows get much better one either side ocean great show never less well made episode unfortunately like british shows get five shows year hour half shows still one could hope least year realism depth main character tony hill protrayed excellent robson green well worth viewing makes role truly part everyway bet went crime scenes even real life research role writers must applauded way average stories lets hope show continues many years come']"
            ]
          },
          "metadata": {},
          "execution_count": 49
        }
      ],
      "source": [
        "cleaned_text[:5]"
      ]
    },
    {
      "cell_type": "code",
      "execution_count": 50,
      "metadata": {
        "id": "GsRXocxoFxd-"
      },
      "outputs": [],
      "source": [
        "#call the function\n",
        "cleaned_summary = []\n",
        "for t in data['Summary']:\n",
        "    cleaned_summary.append(text_cleaner(t,1))"
      ]
    },
    {
      "cell_type": "code",
      "execution_count": 51,
      "metadata": {
        "colab": {
          "base_uri": "https://localhost:8080/"
        },
        "id": "jQJdZcAzFxee",
        "outputId": "651d6975-42da-4958-fb9c-ea9b8ed96477"
      },
      "outputs": [
        {
          "output_type": "execute_result",
          "data": {
            "text/plain": [
              "['little bit boring for me',\n",
              " 'excellent grown up tv',\n",
              " 'way too boring for me',\n",
              " 'robson green is mesmerizing',\n",
              " 'robson green and great writing']"
            ]
          },
          "metadata": {},
          "execution_count": 51
        }
      ],
      "source": [
        "cleaned_summary[:5]"
      ]
    },
    {
      "cell_type": "code",
      "execution_count": 52,
      "metadata": {
        "id": "L1zLpnqsFxey"
      },
      "outputs": [],
      "source": [
        "data['cleaned_text']=cleaned_text\n",
        "data['cleaned_summary']=cleaned_summary"
      ]
    },
    {
      "cell_type": "code",
      "execution_count": 53,
      "metadata": {
        "id": "sYK390unFxfA"
      },
      "outputs": [],
      "source": [
        "data.replace('', np.nan, inplace=True)\n",
        "data.dropna(axis=0,inplace=True)"
      ]
    },
    {
      "cell_type": "code",
      "execution_count": 54,
      "metadata": {
        "colab": {
          "base_uri": "https://localhost:8080/",
          "height": 452
        },
        "id": "MdF76AHHFxgw",
        "outputId": "b458c7f7-7b87-49a7-d5bc-733a61bb8367"
      },
      "outputs": [
        {
          "output_type": "display_data",
          "data": {
            "text/plain": [
              "<Figure size 640x480 with 2 Axes>"
            ],
            "image/png": "[encoded data removed]"
          },
          "metadata": {}
        }
      ],
      "source": [
        "import matplotlib.pyplot as plt\n",
        "\n",
        "text_word_count = []\n",
        "summary_word_count = []\n",
        "\n",
        "# populate the lists with sentence lengths\n",
        "for i in data['cleaned_text']:\n",
        "      text_word_count.append(len(i.split()))\n",
        "\n",
        "for i in data['cleaned_summary']:\n",
        "      summary_word_count.append(len(i.split()))\n",
        "\n",
        "length_df = pd.DataFrame({'text':text_word_count, 'summary':summary_word_count})\n",
        "\n",
        "length_df.hist(bins = 30)\n",
        "plt.show()"
      ]
    },
    {
      "cell_type": "code",
      "execution_count": 55,
      "metadata": {
        "colab": {
          "base_uri": "https://localhost:8080/"
        },
        "id": "7JRjwdIOFxg3",
        "outputId": "a6382acf-59c4-4d7a-a7e6-fed29cd5b4a3"
      },
      "outputs": [
        {
          "output_type": "stream",
          "name": "stdout",
          "text": [
            "0.909707283866576\n"
          ]
        }
      ],
      "source": [
        "cnt=0\n",
        "for i in data['cleaned_summary']:\n",
        "    if(len(i.split())<=8):\n",
        "        cnt=cnt+1\n",
        "print(cnt/len(data['cleaned_summary']))"
      ]
    },
    {
      "cell_type": "code",
      "execution_count": 56,
      "metadata": {
        "id": "ZKD5VOWqFxhC"
      },
      "outputs": [],
      "source": [
        "max_text_len=30\n",
        "max_summary_len=8"
      ]
    },
    {
      "cell_type": "code",
      "execution_count": 57,
      "metadata": {
        "id": "yY0tEJP0FxhI"
      },
      "outputs": [],
      "source": [
        "cleaned_text =np.array(data['cleaned_text'])\n",
        "cleaned_summary=np.array(data['cleaned_summary'])\n",
        "\n",
        "short_text=[]\n",
        "short_summary=[]\n",
        "\n",
        "for i in range(len(cleaned_text)):\n",
        "    if(len(cleaned_summary[i].split())<=max_summary_len and len(cleaned_text[i].split())<=max_text_len):\n",
        "        short_text.append(cleaned_text[i])\n",
        "        short_summary.append(cleaned_summary[i])\n",
        "\n",
        "df=pd.DataFrame({'text':short_text,'summary':short_summary})"
      ]
    },
    {
      "cell_type": "code",
      "execution_count": 58,
      "metadata": {
        "id": "EwLUH78CFxhg"
      },
      "outputs": [],
      "source": [
        "df['summary'] = df['summary'].apply(lambda x : 'sostok '+ x + ' eostok')"
      ]
    },
    {
      "cell_type": "code",
      "execution_count": 59,
      "metadata": {
        "id": "RakakKHcFxhl"
      },
      "outputs": [],
      "source": [
        "from sklearn.model_selection import train_test_split\n",
        "x_tr,x_val,y_tr,y_val=train_test_split(np.array(df['text']),np.array(df['summary']),test_size=0.1,random_state=0,shuffle=True)"
      ]
    },
    {
      "cell_type": "code",
      "execution_count": 60,
      "metadata": {
        "id": "oRHTgX6hFxhq"
      },
      "outputs": [],
      "source": [
        "from keras.preprocessing.text import Tokenizer\n",
        "from keras.preprocessing.sequence import pad_sequences\n",
        "\n",
        "#prepare a tokenizer for reviews on training data\n",
        "x_tokenizer = Tokenizer()\n",
        "x_tokenizer.fit_on_texts(list(x_tr))"
      ]
    },
    {
      "cell_type": "code",
      "execution_count": 61,
      "metadata": {
        "colab": {
          "base_uri": "https://localhost:8080/"
        },
        "id": "y8KronV2Fxhx",
        "outputId": "daff1d59-4abf-4dda-f50a-88bcf6a6c374"
      },
      "outputs": [
        {
          "output_type": "stream",
          "name": "stdout",
          "text": [
            "% of rare words in vocabulary: 67.78285963192856\n",
            "Total Coverage of rare words: 5.261003563517288\n"
          ]
        }
      ],
      "source": [
        "thresh=4\n",
        "\n",
        "cnt=0\n",
        "tot_cnt=0\n",
        "freq=0\n",
        "tot_freq=0\n",
        "\n",
        "for key,value in x_tokenizer.word_counts.items():\n",
        "    tot_cnt=tot_cnt+1\n",
        "    tot_freq=tot_freq+value\n",
        "    if(value<thresh):\n",
        "        cnt=cnt+1\n",
        "        freq=freq+value\n",
        "\n",
        "print(\"% of rare words in vocabulary:\",(cnt/tot_cnt)*100)\n",
        "print(\"Total Coverage of rare words:\",(freq/tot_freq)*100)"
      ]
    },
    {
      "cell_type": "code",
      "execution_count": 62,
      "metadata": {
        "id": "J2giEsF3Fxh3"
      },
      "outputs": [],
      "source": [
        "#prepare a tokenizer for reviews on training data\n",
        "x_tokenizer = Tokenizer(num_words=tot_cnt-cnt)\n",
        "x_tokenizer.fit_on_texts(list(x_tr))\n",
        "\n",
        "#convert text sequences into integer sequences\n",
        "x_tr_seq    =   x_tokenizer.texts_to_sequences(x_tr)\n",
        "x_val_seq   =   x_tokenizer.texts_to_sequences(x_val)\n",
        "\n",
        "#padding zero upto maximum length\n",
        "x_tr    =   pad_sequences(x_tr_seq,  maxlen=max_text_len, padding='post')\n",
        "x_val   =   pad_sequences(x_val_seq, maxlen=max_text_len, padding='post')\n",
        "\n",
        "#size of vocabulary ( +1 for padding token)\n",
        "x_voc   =  x_tokenizer.num_words + 1"
      ]
    },
    {
      "cell_type": "code",
      "execution_count": 63,
      "metadata": {
        "colab": {
          "base_uri": "https://localhost:8080/"
        },
        "id": "DCbGMsm4FxiA",
        "outputId": "d33db90c-6aa8-4145-cee2-38baf406a183"
      },
      "outputs": [
        {
          "output_type": "execute_result",
          "data": {
            "text/plain": [
              "5918"
            ]
          },
          "metadata": {},
          "execution_count": 63
        }
      ],
      "source": [
        "x_voc"
      ]
    },
    {
      "cell_type": "code",
      "execution_count": 64,
      "metadata": {
        "id": "eRHqyBkBFxiJ"
      },
      "outputs": [],
      "source": [
        "#prepare a tokenizer for reviews on training data\n",
        "y_tokenizer = Tokenizer()\n",
        "y_tokenizer.fit_on_texts(list(y_tr))"
      ]
    },
    {
      "cell_type": "code",
      "execution_count": 65,
      "metadata": {
        "colab": {
          "base_uri": "https://localhost:8080/"
        },
        "id": "yzE5OiRLFxiM",
        "outputId": "7a7faf7c-dde1-4403-9f8b-97f79ec28b5b"
      },
      "outputs": [
        {
          "output_type": "stream",
          "name": "stdout",
          "text": [
            "% of rare words in vocabulary: 80.66838046272493\n",
            "Total Coverage of rare words: 7.516230825698569\n"
          ]
        }
      ],
      "source": [
        "thresh=6\n",
        "\n",
        "cnt=0\n",
        "tot_cnt=0\n",
        "freq=0\n",
        "tot_freq=0\n",
        "\n",
        "for key,value in y_tokenizer.word_counts.items():\n",
        "    tot_cnt=tot_cnt+1\n",
        "    tot_freq=tot_freq+value\n",
        "    if(value<thresh):\n",
        "        cnt=cnt+1\n",
        "        freq=freq+value\n",
        "\n",
        "print(\"% of rare words in vocabulary:\",(cnt/tot_cnt)*100)\n",
        "print(\"Total Coverage of rare words:\",(freq/tot_freq)*100)"
      ]
    },
    {
      "cell_type": "code",
      "execution_count": 66,
      "metadata": {
        "id": "-fswLvIgFxiR"
      },
      "outputs": [],
      "source": [
        "#prepare a tokenizer for reviews on training data\n",
        "y_tokenizer = Tokenizer(num_words=tot_cnt-cnt)\n",
        "y_tokenizer.fit_on_texts(list(y_tr))\n",
        "\n",
        "#convert text sequences into integer sequences\n",
        "y_tr_seq    =   y_tokenizer.texts_to_sequences(y_tr)\n",
        "y_val_seq   =   y_tokenizer.texts_to_sequences(y_val)\n",
        "\n",
        "#padding zero upto maximum length\n",
        "y_tr    =   pad_sequences(y_tr_seq, maxlen=max_summary_len, padding='post')\n",
        "y_val   =   pad_sequences(y_val_seq, maxlen=max_summary_len, padding='post')\n",
        "\n",
        "#size of vocabulary\n",
        "y_voc  =   y_tokenizer.num_words +1"
      ]
    },
    {
      "cell_type": "code",
      "execution_count": 67,
      "metadata": {
        "colab": {
          "base_uri": "https://localhost:8080/"
        },
        "id": "pR8IX9FRFxiY",
        "outputId": "0f5e3673-f0db-40ad-c64a-49f60887c4ed"
      },
      "outputs": [
        {
          "output_type": "execute_result",
          "data": {
            "text/plain": [
              "(20279, 20279)"
            ]
          },
          "metadata": {},
          "execution_count": 67
        }
      ],
      "source": [
        "y_tokenizer.word_counts['sostok'],len(y_tr)"
      ]
    },
    {
      "cell_type": "code",
      "execution_count": 68,
      "metadata": {
        "id": "kZ-vW82sFxih"
      },
      "outputs": [],
      "source": [
        "ind=[]\n",
        "for i in range(len(y_tr)):\n",
        "    cnt=0\n",
        "    for j in y_tr[i]:\n",
        "        if j!=0:\n",
        "            cnt=cnt+1\n",
        "    if(cnt==2):\n",
        "        ind.append(i)\n",
        "\n",
        "y_tr=np.delete(y_tr,ind, axis=0)\n",
        "x_tr=np.delete(x_tr,ind, axis=0)"
      ]
    },
    {
      "cell_type": "code",
      "execution_count": 69,
      "metadata": {
        "id": "cx5NISuMFxik"
      },
      "outputs": [],
      "source": [
        "ind=[]\n",
        "for i in range(len(y_val)):\n",
        "    cnt=0\n",
        "    for j in y_val[i]:\n",
        "        if j!=0:\n",
        "            cnt=cnt+1\n",
        "    if(cnt==2):\n",
        "        ind.append(i)\n",
        "\n",
        "y_val=np.delete(y_val,ind, axis=0)\n",
        "x_val=np.delete(x_val,ind, axis=0)"
      ]
    },
    {
      "cell_type": "code",
      "execution_count": 70,
      "metadata": {
        "id": "mW66QQ8y_MIl"
      },
      "outputs": [],
      "source": [
        "from tensorflow.keras.preprocessing.text import Tokenizer\n",
        "from tensorflow.keras.preprocessing.sequence import pad_sequences\n",
        "from tensorflow.keras.layers import Input, LSTM, Embedding, Dense, \\\n",
        "    Concatenate, TimeDistributed\n",
        "from tensorflow.keras.models import Model\n",
        "from tensorflow.keras.callbacks import EarlyStopping"
      ]
    },
    {
      "cell_type": "code",
      "execution_count": 71,
      "metadata": {
        "colab": {
          "base_uri": "https://localhost:8080/",
          "height": 105
        },
        "id": "Sd3swAJ0_PB0",
        "outputId": "e4fa298c-c4f6-4e24-c4e5-294b5a0d42d0"
      },
      "outputs": [
        {
          "output_type": "execute_result",
          "data": {
            "text/plain": [
              "\"latent_dim = 300\\nembedding_dim = 200\\n\\n# Encoder\\nencoder_inputs = Input(shape=(max_text_len, ))\\n\\n# Embedding layer\\nenc_emb = Embedding(x_voc, embedding_dim,\\n                    trainable=True)(encoder_inputs)\\n\\n# Encoder LSTM 1\\nencoder_lstm1 = LSTM(latent_dim, return_sequences=True,\\n                     return_state=True, dropout=0.4,\\n                     recurrent_dropout=0.4)\\n(encoder_output1, state_h1, state_c1) = encoder_lstm1(enc_emb)\\n\\n# Encoder LSTM 2\\nencoder_lstm2 = LSTM(latent_dim, return_sequences=True,\\n                     return_state=True, dropout=0.4,\\n                     recurrent_dropout=0.4)\\n(encoder_output2, state_h2, state_c2) = encoder_lstm2(encoder_output1)\\n\\n# Encoder LSTM 3\\nencoder_lstm3 = LSTM(latent_dim, return_state=True,\\n                     return_sequences=True, dropout=0.4,\\n                     recurrent_dropout=0.4)\\n(encoder_outputs, state_h, state_c) = encoder_lstm3(encoder_output2)\\n\\n# Set up the decoder, using encoder_states as the initial state\\ndecoder_inputs = Input(shape=(None, ))\\n\\n# Embedding layer\\ndec_emb_layer = Embedding(y_voc, embedding_dim, trainable=True)\\ndec_emb = dec_emb_layer(decoder_inputs)\\n\\n# Decoder LSTM\\ndecoder_lstm = LSTM(latent_dim, return_sequences=True,\\n                    return_state=True, dropout=0.4,\\n                    recurrent_dropout=0.2)\\n(decoder_outputs, decoder_fwd_state, decoder_back_state) =     decoder_lstm(dec_emb, initial_state=[state_h, state_c])\\n\\n# Dense layer\\ndecoder_dense = TimeDistributed(Dense(y_voc, activation='softmax'))\\ndecoder_outputs = decoder_dense(decoder_outputs)\\n\\n# Define the model\\nmodel = Model([encoder_inputs, decoder_inputs], decoder_outputs)\\n\\nmodel.summary()\""
            ],
            "application/vnd.google.colaboratory.intrinsic+json": {
              "type": "string"
            }
          },
          "metadata": {},
          "execution_count": 71
        }
      ],
      "source": [
        "'''latent_dim = 300\n",
        "embedding_dim = 200\n",
        "\n",
        "# Encoder\n",
        "encoder_inputs = Input(shape=(max_text_len, ))\n",
        "\n",
        "# Embedding layer\n",
        "enc_emb = Embedding(x_voc, embedding_dim,\n",
        "                    trainable=True)(encoder_inputs)\n",
        "\n",
        "# Encoder LSTM 1\n",
        "encoder_lstm1 = LSTM(latent_dim, return_sequences=True,\n",
        "                     return_state=True, dropout=0.4,\n",
        "                     recurrent_dropout=0.4)\n",
        "(encoder_output1, state_h1, state_c1) = encoder_lstm1(enc_emb)\n",
        "\n",
        "# Encoder LSTM 2\n",
        "encoder_lstm2 = LSTM(latent_dim, return_sequences=True,\n",
        "                     return_state=True, dropout=0.4,\n",
        "                     recurrent_dropout=0.4)\n",
        "(encoder_output2, state_h2, state_c2) = encoder_lstm2(encoder_output1)\n",
        "\n",
        "# Encoder LSTM 3\n",
        "encoder_lstm3 = LSTM(latent_dim, return_state=True,\n",
        "                     return_sequences=True, dropout=0.4,\n",
        "                     recurrent_dropout=0.4)\n",
        "(encoder_outputs, state_h, state_c) = encoder_lstm3(encoder_output2)\n",
        "\n",
        "# Set up the decoder, using encoder_states as the initial state\n",
        "decoder_inputs = Input(shape=(None, ))\n",
        "\n",
        "# Embedding layer\n",
        "dec_emb_layer = Embedding(y_voc, embedding_dim, trainable=True)\n",
        "dec_emb = dec_emb_layer(decoder_inputs)\n",
        "\n",
        "# Decoder LSTM\n",
        "decoder_lstm = LSTM(latent_dim, return_sequences=True,\n",
        "                    return_state=True, dropout=0.4,\n",
        "                    recurrent_dropout=0.2)\n",
        "(decoder_outputs, decoder_fwd_state, decoder_back_state) = \\\n",
        "    decoder_lstm(dec_emb, initial_state=[state_h, state_c])\n",
        "\n",
        "# Dense layer\n",
        "decoder_dense = TimeDistributed(Dense(y_voc, activation='softmax'))\n",
        "decoder_outputs = decoder_dense(decoder_outputs)\n",
        "\n",
        "# Define the model\n",
        "model = Model([encoder_inputs, decoder_inputs], decoder_outputs)\n",
        "\n",
        "model.summary()'''"
      ]
    },
    {
      "cell_type": "code",
      "execution_count": 72,
      "metadata": {
        "id": "CVxl_wN7_Zdn",
        "colab": {
          "base_uri": "https://localhost:8080/",
          "height": 35
        },
        "outputId": "f4ce4c77-4ae4-4180-fee9-515e8ffc98b0"
      },
      "outputs": [
        {
          "output_type": "execute_result",
          "data": {
            "text/plain": [
              "\"model.compile(optimizer='rmsprop', loss='sparse_categorical_crossentropy')\\n\\nes = EarlyStopping(monitor='val_loss', mode='min', verbose=1, patience=2)\""
            ],
            "application/vnd.google.colaboratory.intrinsic+json": {
              "type": "string"
            }
          },
          "metadata": {},
          "execution_count": 72
        }
      ],
      "source": [
        "'''model.compile(optimizer='rmsprop', loss='sparse_categorical_crossentropy')\n",
        "\n",
        "es = EarlyStopping(monitor='val_loss', mode='min', verbose=1, patience=2)'''"
      ]
    },
    {
      "cell_type": "code",
      "execution_count": 73,
      "metadata": {
        "colab": {
          "base_uri": "https://localhost:8080/",
          "height": 52
        },
        "id": "8vhKUkoT_djh",
        "outputId": "2e343097-8629-4f2c-956b-826949592e34"
      },
      "outputs": [
        {
          "output_type": "execute_result",
          "data": {
            "text/plain": [
              "'history = model.fit(\\n    [x_tr, y_tr[:, :-1]],\\n    y_tr.reshape(y_tr.shape[0], y_tr.shape[1], 1)[:, 1:],\\n    epochs=50,\\n    callbacks=[es],\\n    batch_size=128,\\n    validation_data=([x_val, y_val[:, :-1]],\\n                     y_val.reshape(y_val.shape[0], y_val.shape[1], 1)[:\\n                     , 1:]),\\n    )'"
            ],
            "application/vnd.google.colaboratory.intrinsic+json": {
              "type": "string"
            }
          },
          "metadata": {},
          "execution_count": 73
        }
      ],
      "source": [
        "'''history = model.fit(\n",
        "    [x_tr, y_tr[:, :-1]],\n",
        "    y_tr.reshape(y_tr.shape[0], y_tr.shape[1], 1)[:, 1:],\n",
        "    epochs=50,\n",
        "    callbacks=[es],\n",
        "    batch_size=128,\n",
        "    validation_data=([x_val, y_val[:, :-1]],\n",
        "                     y_val.reshape(y_val.shape[0], y_val.shape[1], 1)[:\n",
        "                     , 1:]),\n",
        "    )'''"
      ]
    },
    {
      "cell_type": "code",
      "source": [
        "from tensorflow.keras.models import load_model\n",
        "# Load the saved model\n",
        "model = load_model('/content/my_model.h5')\n",
        "model.summary()"
      ],
      "metadata": {
        "colab": {
          "base_uri": "https://localhost:8080/"
        },
        "id": "LSbGu9iF1hky",
        "outputId": "e32ff919-51c3-43c0-822d-4cb44531e9a8"
      },
      "execution_count": 74,
      "outputs": [
        {
          "output_type": "stream",
          "name": "stdout",
          "text": [
            "Model: \"model\"\n",
            "__________________________________________________________________________________________________\n",
            " Layer (type)                Output Shape                 Param #   Connected to                  \n",
            "==================================================================================================\n",
            " input_1 (InputLayer)        [(None, 30)]                 0         []                            \n",
            "                                                                                                  \n",
            " embedding (Embedding)       (None, 30, 200)              1183600   ['input_1[0][0]']             \n",
            "                                                                                                  \n",
            " lstm (LSTM)                 [(None, 30, 300),            601200    ['embedding[0][0]']           \n",
            "                              (None, 300),                                                        \n",
            "                              (None, 300)]                                                        \n",
            "                                                                                                  \n",
            " input_2 (InputLayer)        [(None, None)]               0         []                            \n",
            "                                                                                                  \n",
            " lstm_1 (LSTM)               [(None, 30, 300),            721200    ['lstm[0][0]']                \n",
            "                              (None, 300),                                                        \n",
            "                              (None, 300)]                                                        \n",
            "                                                                                                  \n",
            " embedding_1 (Embedding)     (None, None, 200)            225800    ['input_2[0][0]']             \n",
            "                                                                                                  \n",
            " lstm_2 (LSTM)               [(None, 30, 300),            721200    ['lstm_1[0][0]']              \n",
            "                              (None, 300),                                                        \n",
            "                              (None, 300)]                                                        \n",
            "                                                                                                  \n",
            " lstm_3 (LSTM)               [(None, None, 300),          601200    ['embedding_1[0][0]',         \n",
            "                              (None, 300),                           'lstm_2[0][1]',              \n",
            "                              (None, 300)]                           'lstm_2[0][2]']              \n",
            "                                                                                                  \n",
            " time_distributed (TimeDist  (None, None, 1129)           339829    ['lstm_3[0][0]']              \n",
            " ributed)                                                                                         \n",
            "                                                                                                  \n",
            "==================================================================================================\n",
            "Total params: 4394029 (16.76 MB)\n",
            "Trainable params: 4394029 (16.76 MB)\n",
            "Non-trainable params: 0 (0.00 Byte)\n",
            "__________________________________________________________________________________________________\n"
          ]
        }
      ]
    },
    {
      "cell_type": "code",
      "execution_count": 75,
      "metadata": {
        "id": "ym76zXDT-WJS",
        "colab": {
          "base_uri": "https://localhost:8080/",
          "height": 430
        },
        "outputId": "9f01ac4b-e1e9-498c-dde2-d0aecc752e17"
      },
      "outputs": [
        {
          "output_type": "display_data",
          "data": {
            "text/plain": [
              "<Figure size 640x480 with 1 Axes>"
            ],
            "image/png": "[encoded data removed]"
          },
          "metadata": {}
        }
      ],
      "source": [
        "from matplotlib import pyplot\n",
        "\n",
        "pyplot.plot(history.history['loss'], label='train')\n",
        "pyplot.plot(history.history['val_loss'], label='test')\n",
        "pyplot.legend()\n",
        "pyplot.show()"
      ]
    },
    {
      "cell_type": "code",
      "execution_count": 76,
      "metadata": {
        "id": "sBX0zZnOFxjW"
      },
      "outputs": [],
      "source": [
        "reverse_target_word_index=y_tokenizer.index_word\n",
        "reverse_source_word_index=x_tokenizer.index_word\n",
        "target_word_index=y_tokenizer.word_index"
      ]
    },
    {
      "cell_type": "code",
      "execution_count": 77,
      "metadata": {
        "id": "9QkrNV-4Fxjt"
      },
      "outputs": [],
      "source": [
        "# Encode the input sequence to get the feature vector\n",
        "encoder_model = Model(inputs=encoder_inputs, outputs=[encoder_outputs,\n",
        "                      state_h, state_c])\n",
        "\n",
        "# Decoder setup\n",
        "\n",
        "# Below tensors will hold the states of the previous time step\n",
        "decoder_state_input_h = Input(shape=(latent_dim, ))\n",
        "decoder_state_input_c = Input(shape=(latent_dim, ))\n",
        "decoder_hidden_state_input = Input(shape=(max_text_len, latent_dim))\n",
        "\n",
        "# Get the embeddings of the decoder sequence\n",
        "dec_emb2 = dec_emb_layer(decoder_inputs)\n",
        "\n",
        "# To predict the next word in the sequence, set the initial states to the states from the previous time step\n",
        "(decoder_outputs2, state_h2, state_c2) = decoder_lstm(dec_emb2,\n",
        "        initial_state=[decoder_state_input_h, decoder_state_input_c])\n",
        "\n",
        "# A dense softmax layer to generate prob dist. over the target vocabulary\n",
        "decoder_outputs2 = decoder_dense(decoder_outputs2)\n",
        "\n",
        "# Final decoder model\n",
        "decoder_model = Model([decoder_inputs] + [decoder_hidden_state_input,\n",
        "                      decoder_state_input_h, decoder_state_input_c],\n",
        "                      [decoder_outputs2] + [state_h2, state_c2])"
      ]
    },
    {
      "cell_type": "code",
      "execution_count": 78,
      "metadata": {
        "id": "6f6TTFnBFxj6"
      },
      "outputs": [],
      "source": [
        "def decode_sequence(input_seq):\n",
        "\n",
        "    # Encode the input as state vectors.\n",
        "    (e_out, e_h, e_c) = encoder_model.predict(input_seq)\n",
        "\n",
        "    # Generate empty target sequence of length 1\n",
        "    target_seq = np.zeros((1, 1))\n",
        "\n",
        "    # Populate the first word of target sequence with the start word.\n",
        "    target_seq[0, 0] = target_word_index['sostok']\n",
        "\n",
        "    stop_condition = False\n",
        "    decoded_sentence = ''\n",
        "\n",
        "    while not stop_condition:\n",
        "        (output_tokens, h, c) = decoder_model.predict([target_seq]\n",
        "                + [e_out, e_h, e_c])\n",
        "\n",
        "        # Sample a token\n",
        "        sampled_token_index = np.argmax(output_tokens[0, -1, :])\n",
        "        sampled_token = reverse_target_word_index[sampled_token_index]\n",
        "\n",
        "        if sampled_token != 'eostok':\n",
        "            decoded_sentence += ' ' + sampled_token\n",
        "\n",
        "        # Exit condition: either hit max length or find the stop word.\n",
        "        if sampled_token == 'eostok' or len(decoded_sentence.split()) \\\n",
        "            >= max_summary_len - 1:\n",
        "            stop_condition = True\n",
        "\n",
        "        # Update the target sequence (of length 1)\n",
        "        target_seq = np.zeros((1, 1))\n",
        "        target_seq[0, 0] = sampled_token_index\n",
        "\n",
        "        # Update internal states\n",
        "        (e_h, e_c) = (h, c)\n",
        "\n",
        "    return decoded_sentence"
      ]
    },
    {
      "cell_type": "code",
      "execution_count": 79,
      "metadata": {
        "id": "aAUntznIFxj9"
      },
      "outputs": [],
      "source": [
        "# To convert sequence to summary\n",
        "def seq2summary(input_seq):\n",
        "    newString = ''\n",
        "    for i in input_seq:\n",
        "        if i != 0 and i != target_word_index['sostok'] and i \\\n",
        "            != target_word_index['eostok']:\n",
        "            newString = newString + reverse_target_word_index[i] + ' '\n",
        "\n",
        "    return newString\n",
        "\n",
        "\n",
        "# To convert sequence to text\n",
        "def seq2text(input_seq):\n",
        "    newString = ''\n",
        "    for i in input_seq:\n",
        "        if i != 0:\n",
        "            newString = newString + reverse_source_word_index[i] + ' '\n",
        "\n",
        "    return newString"
      ]
    },
    {
      "cell_type": "code",
      "execution_count": 80,
      "metadata": {
        "id": "BUtQmQTmFxkI",
        "colab": {
          "base_uri": "https://localhost:8080/"
        },
        "outputId": "115d1dea-51da-4333-a470-dba08de2a912"
      },
      "outputs": [
        {
          "output_type": "stream",
          "name": "stdout",
          "text": [
            "Review: show always funny let crazy seasons funny characters grow think actually getting better \n",
            "Original summary: great show \n",
            "1/1 [==============================] - 1s 763ms/step\n",
            "1/1 [==============================] - 0s 269ms/step\n",
            "1/1 [==============================] - 0s 24ms/step\n",
            "1/1 [==============================] - 0s 29ms/step\n",
            "Predicted summary:  love it\n",
            "\n",
            "\n",
            "Review: cannot believe canceling show given high ratings excellent writing excellent actors shame waste season better last \n",
            "Original summary: this show just gets better and better \n",
            "1/1 [==============================] - 0s 100ms/step\n",
            "1/1 [==============================] - 0s 26ms/step\n",
            "1/1 [==============================] - 0s 26ms/step\n",
            "1/1 [==============================] - 0s 26ms/step\n",
            "Predicted summary:  great show\n",
            "\n",
            "\n",
            "Review: quirky fun show characters wonderful unique nicely historical references warehouse spin nice \n",
            "Original summary: quirky but fun \n",
            "1/1 [==============================] - 0s 107ms/step\n",
            "1/1 [==============================] - 0s 26ms/step\n",
            "1/1 [==============================] - 0s 29ms/step\n",
            "1/1 [==============================] - 0s 35ms/step\n",
            "Predicted summary:  love it\n",
            "\n",
            "\n",
            "Review: nice download episodes miss episodes love great show \n",
            "Original summary: love it \n",
            "1/1 [==============================] - 0s 172ms/step\n",
            "1/1 [==============================] - 0s 38ms/step\n",
            "1/1 [==============================] - 0s 35ms/step\n",
            "1/1 [==============================] - 0s 38ms/step\n",
            "Predicted summary:  love it\n",
            "\n",
            "\n",
            "Review: several new question beginning new season really excited ready \n",
            "Original summary: interesting start to new season \n",
            "1/1 [==============================] - 0s 168ms/step\n",
            "1/1 [==============================] - 0s 38ms/step\n",
            "1/1 [==============================] - 0s 37ms/step\n",
            "1/1 [==============================] - 0s 41ms/step\n",
            "Predicted summary:  good show\n",
            "\n",
            "\n",
            "Review: huge fan green arrow childhood years love show watch right going watch first episode next one much love show \n",
            "Original summary: arrow the complete first season \n",
            "1/1 [==============================] - 0s 187ms/step\n",
            "1/1 [==============================] - 0s 44ms/step\n",
            "1/1 [==============================] - 0s 46ms/step\n",
            "1/1 [==============================] - 0s 41ms/step\n",
            "1/1 [==============================] - 0s 40ms/step\n",
            "Predicted summary:  love this show\n",
            "\n",
            "\n",
            "Review: wonderful movie really two people trying survive define dreams live story simply told well acted right definitely one collection \n",
            "Original summary: thought provoking in the most pleasant of \n",
            "1/1 [==============================] - 0s 199ms/step\n",
            "1/1 [==============================] - 0s 26ms/step\n",
            "1/1 [==============================] - 0s 27ms/step\n",
            "1/1 [==============================] - 0s 24ms/step\n",
            "Predicted summary:  good show\n",
            "\n",
            "\n",
            "Review: sports programs thing like setup one enough give try lots interesting characters plenty room comedy drama \n",
            "Original summary: interesting \n",
            "1/1 [==============================] - 0s 114ms/step\n",
            "1/1 [==============================] - 0s 25ms/step\n",
            "1/1 [==============================] - 0s 27ms/step\n",
            "1/1 [==============================] - 0s 30ms/step\n",
            "Predicted summary:  good show\n",
            "\n",
            "\n",
            "Review: usually crime genre fan one somehow grabbed attention excellent writing casting production values fault actually filmed kentucky \n",
            "Original summary: enjoyed \n",
            "1/1 [==============================] - 0s 96ms/step\n",
            "1/1 [==============================] - 0s 24ms/step\n",
            "1/1 [==============================] - 0s 25ms/step\n",
            "1/1 [==============================] - 0s 25ms/step\n",
            "Predicted summary:  good series\n",
            "\n",
            "\n",
            "Review: kind silly low budget watchable twist end saves entire show bust leaves many unanswered questions think idea \n",
            "Original summary: better then expected \n",
            "1/1 [==============================] - 0s 93ms/step\n",
            "1/1 [==============================] - 0s 32ms/step\n",
            "1/1 [==============================] - 0s 25ms/step\n",
            "1/1 [==============================] - 0s 24ms/step\n",
            "Predicted summary:  good show\n",
            "\n",
            "\n",
            "Review: like show much little different take version plot good average cop show \n",
            "Original summary: good show \n",
            "1/1 [==============================] - 0s 93ms/step\n",
            "1/1 [==============================] - 0s 27ms/step\n",
            "1/1 [==============================] - 0s 25ms/step\n",
            "1/1 [==============================] - 0s 32ms/step\n",
            "Predicted summary:  good show\n",
            "\n",
            "\n",
            "Review: love harry bosch could wait watch must please continue great series \n",
            "Original summary: yes \n",
            "1/1 [==============================] - 0s 97ms/step\n",
            "1/1 [==============================] - 0s 29ms/step\n",
            "1/1 [==============================] - 0s 26ms/step\n",
            "1/1 [==============================] - 0s 27ms/step\n",
            "Predicted summary:  love it\n",
            "\n",
            "\n",
            "Review: chopped always great show idea chefs silly ingredients makes great concept \n",
            "Original summary: great show love it \n",
            "1/1 [==============================] - 0s 96ms/step\n",
            "1/1 [==============================] - 0s 26ms/step\n",
            "1/1 [==============================] - 0s 26ms/step\n",
            "1/1 [==============================] - 0s 28ms/step\n",
            "Predicted summary:  love it\n",
            "\n",
            "\n",
            "Review: thing bad episode mentalist patrick jane det lisbon always fresh entertaining toes excellent season fabulous series \n",
            "Original summary: this show \n",
            "1/1 [==============================] - 0s 102ms/step\n",
            "1/1 [==============================] - 0s 27ms/step\n",
            "1/1 [==============================] - 0s 28ms/step\n",
            "1/1 [==============================] - 0s 28ms/step\n",
            "Predicted summary:  love it\n",
            "\n",
            "\n",
            "Review: potential pretty good show given format doubt would ever smash hit jokes funny finishing touches put animation look also cannot go wrong brown villain \n",
            "Original summary: interesting concept \n",
            "1/1 [==============================] - 0s 99ms/step\n",
            "1/1 [==============================] - 0s 26ms/step\n",
            "1/1 [==============================] - 0s 25ms/step\n",
            "1/1 [==============================] - 0s 31ms/step\n",
            "Predicted summary:  not bad\n",
            "\n",
            "\n",
            "Review: perfectly acted intelligently written british series simply good gets normally television series decline quality time one plot much intriguing sounds way settle fascinating detective thriller \n",
            "Original summary: addictive series \n",
            "1/1 [==============================] - 0s 96ms/step\n",
            "1/1 [==============================] - 0s 27ms/step\n",
            "1/1 [==============================] - 0s 26ms/step\n",
            "1/1 [==============================] - 0s 32ms/step\n",
            "Predicted summary:  great show\n",
            "\n",
            "\n",
            "Review: fun harry indiana jones mystery soap opera hard watch episodes back back \n",
            "Original summary: an addicting show \n",
            "1/1 [==============================] - 0s 101ms/step\n",
            "1/1 [==============================] - 0s 27ms/step\n",
            "1/1 [==============================] - 0s 30ms/step\n",
            "1/1 [==============================] - 0s 32ms/step\n",
            "Predicted summary:  love it\n",
            "\n",
            "\n",
            "Review: tell word finally means watch last episode season find let us say season two good one however sure want go best let good things remain good give writers chance disappoint \n",
            "Original summary: finally \n",
            "1/1 [==============================] - 0s 116ms/step\n",
            "1/1 [==============================] - 0s 29ms/step\n",
            "1/1 [==============================] - 0s 27ms/step\n",
            "1/1 [==============================] - 0s 29ms/step\n",
            "Predicted summary:  great show\n",
            "\n",
            "\n",
            "Review: good title great cast sick story tell reading several reviews decided watch alert young male rape consequences seek movie perhaps read reviews may picked passed one \n",
            "Original summary: dark side twisted tale \n",
            "1/1 [==============================] - 0s 96ms/step\n",
            "1/1 [==============================] - 0s 26ms/step\n",
            "1/1 [==============================] - 0s 33ms/step\n",
            "1/1 [==============================] - 0s 27ms/step\n",
            "Predicted summary:  not bad\n",
            "\n",
            "\n",
            "Review: excellent writers cast crew keeping social media changing rules tv getting away like watch way played \n",
            "Original summary: good plots \n",
            "1/1 [==============================] - 0s 96ms/step\n",
            "1/1 [==============================] - 0s 29ms/step\n",
            "1/1 [==============================] - 0s 28ms/step\n",
            "1/1 [==============================] - 0s 32ms/step\n",
            "Predicted summary:  great show\n",
            "\n",
            "\n",
            "Review: like review season interesting episodes good characters fine performances cast guest stars \n",
            "Original summary: good more episodes bad series ending \n",
            "1/1 [==============================] - 0s 96ms/step\n",
            "1/1 [==============================] - 0s 25ms/step\n",
            "1/1 [==============================] - 0s 26ms/step\n",
            "1/1 [==============================] - 0s 29ms/step\n",
            "Predicted summary:  great show\n",
            "\n",
            "\n",
            "Review: actor plays louis awful lousy actor truly tv show would female principal character ugly one dimensional viewers endure lousy casting acting character male \n",
            "Original summary: ugh \n",
            "1/1 [==============================] - 0s 103ms/step\n",
            "1/1 [==============================] - 0s 27ms/step\n",
            "1/1 [==============================] - 0s 32ms/step\n",
            "1/1 [==============================] - 0s 27ms/step\n",
            "Predicted summary:  not bad\n",
            "\n",
            "\n",
            "Review: heart show one best seasons heck every season show gets better better rules great choice judges \n",
            "Original summary: awesome \n",
            "1/1 [==============================] - 0s 96ms/step\n",
            "1/1 [==============================] - 0s 25ms/step\n",
            "1/1 [==============================] - 0s 25ms/step\n",
            "1/1 [==============================] - 0s 26ms/step\n",
            "Predicted summary:  love it\n",
            "\n",
            "\n",
            "Review: like show glad coming back another season syfy needs keep \n",
            "Original summary: very good show \n",
            "1/1 [==============================] - 0s 93ms/step\n",
            "1/1 [==============================] - 0s 27ms/step\n",
            "1/1 [==============================] - 0s 28ms/step\n",
            "1/1 [==============================] - 0s 26ms/step\n",
            "Predicted summary:  love it\n",
            "\n",
            "\n",
            "Review: watch show forever rest come dvd soon police language totally correct also \n",
            "Original summary: love this next dvd \n",
            "1/1 [==============================] - 0s 98ms/step\n",
            "1/1 [==============================] - 0s 27ms/step\n",
            "1/1 [==============================] - 0s 25ms/step\n",
            "1/1 [==============================] - 0s 29ms/step\n",
            "Predicted summary:  love it\n",
            "\n",
            "\n",
            "Review: one favorite shows love watching season one favorite season two good watch \n",
            "Original summary: great spooky show \n",
            "1/1 [==============================] - 0s 99ms/step\n",
            "1/1 [==============================] - 0s 26ms/step\n",
            "1/1 [==============================] - 0s 27ms/step\n",
            "1/1 [==============================] - 0s 25ms/step\n",
            "Predicted summary:  love it\n",
            "\n",
            "\n",
            "Review: andrea interesting anyway governor group unlikeable many shows focused group going lose serious fan \n",
            "Original summary: the worst show so far \n",
            "1/1 [==============================] - 0s 98ms/step\n",
            "1/1 [==============================] - 0s 25ms/step\n",
            "1/1 [==============================] - 0s 27ms/step\n",
            "1/1 [==============================] - 0s 42ms/step\n",
            "Predicted summary:  good show\n",
            "\n",
            "\n",
            "Review: wish till cartoon network upset cancel season completed buy next shows see complete season \n",
            "Original summary: great show \n",
            "1/1 [==============================] - 0s 161ms/step\n",
            "1/1 [==============================] - 0s 41ms/step\n",
            "1/1 [==============================] - 0s 39ms/step\n",
            "1/1 [==============================] - 0s 38ms/step\n",
            "Predicted summary:  love it\n",
            "\n",
            "\n",
            "Review: somehow connect acting especially main character may problem writers sure doubt watch series \n",
            "Original summary: acting not believable \n",
            "1/1 [==============================] - 0s 165ms/step\n",
            "1/1 [==============================] - 0s 41ms/step\n",
            "1/1 [==============================] - 0s 36ms/step\n",
            "1/1 [==============================] - 0s 44ms/step\n",
            "Predicted summary:  good show\n",
            "\n",
            "\n",
            "Review: obsessed show get show third season obsessed characters way learn little every \n",
            "Original summary: obsessed \n",
            "1/1 [==============================] - 0s 174ms/step\n",
            "1/1 [==============================] - 0s 46ms/step\n",
            "1/1 [==============================] - 0s 40ms/step\n",
            "1/1 [==============================] - 0s 44ms/step\n",
            "Predicted summary:  love it\n",
            "\n",
            "\n",
            "Review: series continuation without plot order maintain await release episode guess watched air date would waiting either way \n",
            "Original summary: gripping \n",
            "1/1 [==============================] - 0s 178ms/step\n",
            "1/1 [==============================] - 0s 26ms/step\n",
            "1/1 [==============================] - 0s 26ms/step\n",
            "1/1 [==============================] - 0s 28ms/step\n",
            "Predicted summary:  love it\n",
            "\n",
            "\n",
            "Review: like predecessor inspector morse watch carefully rich complexity stories characters like mysteries love \n",
            "Original summary: the perfect follow on to inspector morse \n",
            "1/1 [==============================] - 0s 98ms/step\n",
            "1/1 [==============================] - 0s 29ms/step\n",
            "1/1 [==============================] - 0s 27ms/step\n",
            "1/1 [==============================] - 0s 26ms/step\n",
            "Predicted summary:  good series\n",
            "\n",
            "\n",
            "Review: longmire holds high energy excellent writing acting robert taylor leads stellar cast third season one adventure another well done \n",
            "Original summary: more great adventure \n",
            "1/1 [==============================] - 0s 94ms/step\n",
            "1/1 [==============================] - 0s 24ms/step\n",
            "1/1 [==============================] - 0s 25ms/step\n",
            "1/1 [==============================] - 0s 25ms/step\n",
            "Predicted summary:  great show\n",
            "\n",
            "\n",
            "Review: love suits two main characters fantastic show even gets love supporting characters one show going buy blu could watch intelligent funny best kind ways see \n",
            "Original summary: suits is great \n",
            "1/1 [==============================] - 0s 99ms/step\n",
            "1/1 [==============================] - 0s 30ms/step\n",
            "1/1 [==============================] - 0s 28ms/step\n",
            "1/1 [==============================] - 0s 29ms/step\n",
            "1/1 [==============================] - 0s 25ms/step\n",
            "Predicted summary:  love this show\n",
            "\n",
            "\n",
            "Review: favorite show love complex plot gets cannot wait see happens next \n",
            "Original summary: love this show \n",
            "1/1 [==============================] - 0s 95ms/step\n",
            "1/1 [==============================] - 0s 30ms/step\n",
            "1/1 [==============================] - 0s 26ms/step\n",
            "1/1 [==============================] - 0s 28ms/step\n",
            "Predicted summary:  love it\n",
            "\n",
            "\n",
            "Review: current comedy favorite show moves along clip added new cast members great guest stars hope continue many seasons \n",
            "Original summary: worth every \n",
            "1/1 [==============================] - 0s 96ms/step\n",
            "1/1 [==============================] - 0s 27ms/step\n",
            "1/1 [==============================] - 0s 26ms/step\n",
            "1/1 [==============================] - 0s 25ms/step\n",
            "Predicted summary:  great show\n",
            "\n",
            "\n",
            "Review: finished watching season dvd dumbest ideas ever fox fire writers got people buy rather buy season \n",
            "Original summary: season so far \n",
            "1/1 [==============================] - 0s 96ms/step\n",
            "1/1 [==============================] - 0s 30ms/step\n",
            "1/1 [==============================] - 0s 28ms/step\n",
            "1/1 [==============================] - 0s 29ms/step\n",
            "Predicted summary:  love it\n",
            "\n",
            "\n",
            "Review: couple family members hilarious season ended already next start \n",
            "Original summary: great comedy \n",
            "1/1 [==============================] - 0s 115ms/step\n",
            "1/1 [==============================] - 0s 25ms/step\n",
            "1/1 [==============================] - 0s 27ms/step\n",
            "1/1 [==============================] - 0s 26ms/step\n",
            "Predicted summary:  love it\n",
            "\n",
            "\n",
            "Review: thought pilot awful would never watch series writers lack imagination come amazon let us see substance disappointed \n",
            "Original summary: not chance \n",
            "1/1 [==============================] - 0s 93ms/step\n",
            "1/1 [==============================] - 0s 30ms/step\n",
            "1/1 [==============================] - 0s 26ms/step\n",
            "1/1 [==============================] - 0s 30ms/step\n",
            "Predicted summary:  good movie\n",
            "\n",
            "\n",
            "Review: neither acting story lines lost step highly entertaining engrossing would highly recommend watching series \n",
            "Original summary: continued high quality \n",
            "1/1 [==============================] - 0s 103ms/step\n",
            "1/1 [==============================] - 0s 27ms/step\n",
            "1/1 [==============================] - 0s 28ms/step\n",
            "1/1 [==============================] - 0s 26ms/step\n",
            "Predicted summary:  great series\n",
            "\n",
            "\n",
            "Review: know season keeps getting funnier twisted care much time take seasons worth everyone show cracks idea far episode going go one best comedies ever seen \n",
            "Original summary: this show is damn funny \n",
            "1/1 [==============================] - 0s 120ms/step\n",
            "1/1 [==============================] - 0s 26ms/step\n",
            "1/1 [==============================] - 0s 31ms/step\n",
            "1/1 [==============================] - 0s 28ms/step\n",
            "Predicted summary:  great series\n",
            "\n",
            "\n",
            "Review: unique story line continues season jack carter keep things perspective standard usual perfect straight man town full mad scientists loved \n",
            "Original summary: no \n",
            "1/1 [==============================] - 0s 101ms/step\n",
            "1/1 [==============================] - 0s 38ms/step\n",
            "1/1 [==============================] - 0s 33ms/step\n",
            "1/1 [==============================] - 0s 27ms/step\n",
            "Predicted summary:  great series\n",
            "\n",
            "\n",
            "Review: teen wolf season great would liked episodes great imaginative show teen always getting trouble worth watching \n",
            "Original summary: love this show \n",
            "1/1 [==============================] - 0s 93ms/step\n",
            "1/1 [==============================] - 0s 25ms/step\n",
            "1/1 [==============================] - 0s 27ms/step\n",
            "1/1 [==============================] - 0s 26ms/step\n",
            "1/1 [==============================] - 0s 29ms/step\n",
            "Predicted summary:  love this show\n",
            "\n",
            "\n",
            "Review: rather getting tired old keeps getting better better hope develop tim character \n",
            "Original summary: show gets better \n",
            "1/1 [==============================] - 0s 100ms/step\n",
            "1/1 [==============================] - 0s 32ms/step\n",
            "1/1 [==============================] - 0s 25ms/step\n",
            "1/1 [==============================] - 0s 25ms/step\n",
            "Predicted summary:  great show\n",
            "\n",
            "\n",
            "Review: oh yeah season disappoint loved seasons missed beat going year awesome season great character development always love series \n",
            "Original summary: boom \n",
            "1/1 [==============================] - 0s 93ms/step\n",
            "1/1 [==============================] - 0s 25ms/step\n",
            "1/1 [==============================] - 0s 25ms/step\n",
            "1/1 [==============================] - 0s 26ms/step\n",
            "Predicted summary:  love it\n",
            "\n",
            "\n",
            "Review: great show hoping continues loved old show well bad jr gone love keeps legacy alive \n",
            "Original summary: timely \n",
            "1/1 [==============================] - 0s 93ms/step\n",
            "1/1 [==============================] - 0s 26ms/step\n",
            "1/1 [==============================] - 0s 26ms/step\n",
            "1/1 [==============================] - 0s 25ms/step\n",
            "Predicted summary:  love it\n",
            "\n",
            "\n",
            "Review: love show watched series since beginning glad still us \n",
            "Original summary: love this show \n",
            "1/1 [==============================] - 0s 106ms/step\n",
            "1/1 [==============================] - 0s 25ms/step\n",
            "1/1 [==============================] - 0s 26ms/step\n",
            "1/1 [==============================] - 0s 25ms/step\n",
            "Predicted summary:  love it\n",
            "\n",
            "\n",
            "Review: thought would like really enjoyed watching started good ended well think young people would love \n",
            "Original summary: teen wolf \n",
            "1/1 [==============================] - 0s 102ms/step\n",
            "1/1 [==============================] - 0s 26ms/step\n",
            "1/1 [==============================] - 0s 28ms/step\n",
            "1/1 [==============================] - 0s 25ms/step\n",
            "Predicted summary:  good show\n",
            "\n",
            "\n",
            "Review: show different concept everyone missing something like years one one start showing aged bad still sorry series \n",
            "Original summary: my husband loves this \n",
            "1/1 [==============================] - 0s 109ms/step\n",
            "1/1 [==============================] - 0s 25ms/step\n",
            "1/1 [==============================] - 0s 24ms/step\n",
            "1/1 [==============================] - 0s 29ms/step\n",
            "Predicted summary:  good show\n",
            "\n",
            "\n",
            "Review: maybe get new housewives county watch full season plus reunion show kind little mean girls year folks coming back stay ones returning leave \n",
            "Original summary: hmm the housewives \n",
            "1/1 [==============================] - 0s 96ms/step\n",
            "1/1 [==============================] - 0s 27ms/step\n",
            "1/1 [==============================] - 0s 27ms/step\n",
            "1/1 [==============================] - 0s 28ms/step\n",
            "Predicted summary:  good show\n",
            "\n",
            "\n",
            "Review: alpha house cup tea dry liberal humor designed make fun republicans tired old stereotypes bill fans might find one amusing episodes \n",
            "Original summary: weak political satire \n",
            "1/1 [==============================] - 0s 120ms/step\n",
            "1/1 [==============================] - 0s 26ms/step\n",
            "1/1 [==============================] - 0s 25ms/step\n",
            "1/1 [==============================] - 0s 28ms/step\n",
            "Predicted summary:  good movie\n",
            "\n",
            "\n",
            "Review: cannot record television comes time pbs masterpiece show better pbs shows purchase one hate paying cable netflix amazon shows soooooo wrong \n",
            "Original summary: love this show \n",
            "1/1 [==============================] - 0s 108ms/step\n",
            "1/1 [==============================] - 0s 41ms/step\n",
            "1/1 [==============================] - 0s 41ms/step\n",
            "1/1 [==============================] - 0s 40ms/step\n",
            "1/1 [==============================] - 0s 40ms/step\n",
            "Predicted summary:  love this show\n",
            "\n",
            "\n",
            "Review: blue guy devil alien nice surprise ending pilot episode made want see happens next \n",
            "Original summary: slow to start but what finish \n",
            "1/1 [==============================] - 0s 153ms/step\n",
            "1/1 [==============================] - 0s 39ms/step\n",
            "1/1 [==============================] - 0s 39ms/step\n",
            "1/1 [==============================] - 0s 37ms/step\n",
            "Predicted summary:  good show\n",
            "\n",
            "\n",
            "Review: like arc series taken season bit disappointing however even storyline season works \n",
            "Original summary: great \n",
            "1/1 [==============================] - 0s 153ms/step\n",
            "1/1 [==============================] - 0s 44ms/step\n",
            "1/1 [==============================] - 0s 43ms/step\n",
            "1/1 [==============================] - 0s 46ms/step\n",
            "Predicted summary:  good series\n",
            "\n",
            "\n",
            "Review: typical cop show another one wish would last deep characters lot unknown history great stuff \n",
            "Original summary: really love the characters in this show \n",
            "1/1 [==============================] - 0s 184ms/step\n",
            "1/1 [==============================] - 0s 44ms/step\n",
            "1/1 [==============================] - 0s 45ms/step\n",
            "1/1 [==============================] - 0s 33ms/step\n",
            "Predicted summary:  great show\n",
            "\n",
            "\n",
            "Review: hope gets picked love music personalities behind scenes feel bit crude taste imagine target audience \n",
            "Original summary: loved it \n",
            "1/1 [==============================] - 0s 93ms/step\n",
            "1/1 [==============================] - 0s 31ms/step\n",
            "1/1 [==============================] - 0s 26ms/step\n",
            "1/1 [==============================] - 0s 31ms/step\n",
            "Predicted summary:  good show\n",
            "\n",
            "\n",
            "Review: say year old grandson likes must good \n",
            "Original summary: looks good \n",
            "1/1 [==============================] - 0s 94ms/step\n",
            "1/1 [==============================] - 0s 28ms/step\n",
            "1/1 [==============================] - 0s 25ms/step\n",
            "1/1 [==============================] - 0s 26ms/step\n",
            "Predicted summary:  great show\n",
            "\n",
            "\n",
            "Review: far better police procedural series broadcast tv hopefully picked made full scale series amazon available prime script written acting excellent looking forward rest series bosch solves crimes la \n",
            "Original summary: excellent start \n",
            "1/1 [==============================] - 0s 91ms/step\n",
            "1/1 [==============================] - 0s 27ms/step\n",
            "1/1 [==============================] - 0s 27ms/step\n",
            "1/1 [==============================] - 0s 28ms/step\n",
            "Predicted summary:  great series\n",
            "\n",
            "\n",
            "Review: enjoy far yet finished series anxious next seson season good bad \n",
            "Original summary: different \n",
            "1/1 [==============================] - 0s 96ms/step\n",
            "1/1 [==============================] - 0s 27ms/step\n",
            "1/1 [==============================] - 0s 25ms/step\n",
            "1/1 [==============================] - 0s 184ms/step\n",
            "Predicted summary:  good show\n",
            "\n",
            "\n",
            "Review: excellent series like doctor yet doctor refreshing quirky always new doctor personality shines yet different new way \n",
            "Original summary: another excellent series \n",
            "1/1 [==============================] - 0s 201ms/step\n",
            "1/1 [==============================] - 0s 27ms/step\n",
            "1/1 [==============================] - 0s 26ms/step\n",
            "1/1 [==============================] - 0s 27ms/step\n",
            "Predicted summary:  love it\n",
            "\n",
            "\n",
            "Review: favorite show watch amazon days husband love characters new characters plot twists diverse people police work encounters daily writing always fascinating intriguing sad lose detectives th season also loving \n",
            "Original summary: many new characters stories \n",
            "1/1 [==============================] - 0s 101ms/step\n",
            "1/1 [==============================] - 0s 28ms/step\n",
            "1/1 [==============================] - 0s 26ms/step\n",
            "1/1 [==============================] - 0s 30ms/step\n",
            "Predicted summary:  great show\n",
            "\n",
            "\n",
            "Review: really one hasnt seen classic havent see need remind old movie \n",
            "Original summary: christmas \n",
            "1/1 [==============================] - 0s 94ms/step\n",
            "1/1 [==============================] - 0s 27ms/step\n",
            "1/1 [==============================] - 0s 27ms/step\n",
            "Predicted summary:  funny\n",
            "\n",
            "\n",
            "Review: fun series wife never really know direction turn also always includes well designed plots especially enjoy \n",
            "Original summary: very intriguing and well acted \n",
            "1/1 [==============================] - 0s 102ms/step\n",
            "1/1 [==============================] - 0s 25ms/step\n",
            "1/1 [==============================] - 0s 34ms/step\n",
            "1/1 [==============================] - 0s 26ms/step\n",
            "Predicted summary:  good show\n",
            "\n",
            "\n",
            "Review: seems every episode criminal case family personal issues jack manage tries solve gritty sometimes disturbing issues keeps interest sorry series ended soon \n",
            "Original summary: dark but interesting show \n",
            "1/1 [==============================] - 0s 94ms/step\n",
            "1/1 [==============================] - 0s 28ms/step\n",
            "1/1 [==============================] - 0s 27ms/step\n",
            "1/1 [==============================] - 0s 26ms/step\n",
            "Predicted summary:  great show\n",
            "\n",
            "\n",
            "Review: eight years bones fan five castle sir arthur conan doyle would writers \n",
            "Original summary: never so good \n",
            "1/1 [==============================] - 0s 101ms/step\n",
            "1/1 [==============================] - 0s 25ms/step\n",
            "1/1 [==============================] - 0s 26ms/step\n",
            "1/1 [==============================] - 0s 25ms/step\n",
            "Predicted summary:  great show\n",
            "\n",
            "\n",
            "Review: story bit contrived acting excellent always surprise ending stephen king leaves hanging last \n",
            "Original summary: brilliant \n",
            "1/1 [==============================] - 0s 94ms/step\n",
            "1/1 [==============================] - 0s 26ms/step\n",
            "1/1 [==============================] - 0s 26ms/step\n",
            "1/1 [==============================] - 0s 25ms/step\n",
            "Predicted summary:  good series\n",
            "\n",
            "\n",
            "Review: although guy little annoying times love going road trip lots ideas home cooking \n",
            "Original summary: and \n",
            "1/1 [==============================] - 0s 98ms/step\n",
            "1/1 [==============================] - 0s 26ms/step\n",
            "1/1 [==============================] - 0s 25ms/step\n",
            "1/1 [==============================] - 0s 26ms/step\n",
            "Predicted summary:  good show\n",
            "\n",
            "\n",
            "Review: daughter loves care bears cartoons cute nothing scarey animation way better ones grew \n",
            "Original summary: enjoy them \n",
            "1/1 [==============================] - 0s 103ms/step\n",
            "1/1 [==============================] - 0s 31ms/step\n",
            "1/1 [==============================] - 0s 24ms/step\n",
            "Predicted summary:  cute\n",
            "\n",
            "\n",
            "Review: awe children truly enjoy appreciate good healthy entertainment despite era \n",
            "Original summary: old school fun for new school \n",
            "1/1 [==============================] - 0s 100ms/step\n",
            "1/1 [==============================] - 0s 26ms/step\n",
            "1/1 [==============================] - 0s 26ms/step\n",
            "1/1 [==============================] - 0s 27ms/step\n",
            "Predicted summary:  good show\n",
            "\n",
            "\n",
            "Review: love series would purchase another seem find chuck full great ideas inspiration live small space may highly recommend \n",
            "Original summary: small big idea \n",
            "1/1 [==============================] - 0s 99ms/step\n",
            "1/1 [==============================] - 0s 30ms/step\n",
            "1/1 [==============================] - 0s 26ms/step\n",
            "1/1 [==============================] - 0s 26ms/step\n",
            "Predicted summary:  love it\n",
            "\n",
            "\n",
            "Review: put grandkids must confess tend like music one \n",
            "Original summary: ok so like the music too \n",
            "1/1 [==============================] - 0s 101ms/step\n",
            "1/1 [==============================] - 0s 26ms/step\n",
            "1/1 [==============================] - 0s 25ms/step\n",
            "1/1 [==============================] - 0s 25ms/step\n",
            "Predicted summary:  four stars\n",
            "\n",
            "\n",
            "Review: cannot rate second season enjoy first season story although bit far fetched still credible characters three dimensional well acted go wrong watching series \n",
            "Original summary: first season \n",
            "1/1 [==============================] - 0s 91ms/step\n",
            "1/1 [==============================] - 0s 24ms/step\n",
            "1/1 [==============================] - 0s 28ms/step\n",
            "1/1 [==============================] - 0s 28ms/step\n",
            "Predicted summary:  great series\n",
            "\n",
            "\n",
            "Review: good story line characters believeable sad two seasons tv however seasons three four available comic novel form \n",
            "Original summary: great series \n",
            "1/1 [==============================] - 0s 107ms/step\n",
            "1/1 [==============================] - 0s 26ms/step\n",
            "1/1 [==============================] - 0s 32ms/step\n",
            "1/1 [==============================] - 0s 25ms/step\n",
            "Predicted summary:  great show\n",
            "\n",
            "\n",
            "Review: great entertainment handle violence nudity language young kids fun ride \n",
            "Original summary: good stuff \n",
            "1/1 [==============================] - 0s 91ms/step\n",
            "1/1 [==============================] - 0s 25ms/step\n",
            "1/1 [==============================] - 0s 26ms/step\n",
            "1/1 [==============================] - 0s 28ms/step\n",
            "Predicted summary:  good show\n",
            "\n",
            "\n",
            "Review: hear news similar happening chicago many gangs many situations detroit fat cats spending money \n",
            "Original summary: watching now \n",
            "1/1 [==============================] - 0s 99ms/step\n",
            "1/1 [==============================] - 0s 26ms/step\n",
            "1/1 [==============================] - 0s 25ms/step\n",
            "1/1 [==============================] - 0s 27ms/step\n",
            "Predicted summary:  good show\n",
            "\n",
            "\n",
            "Review: enjoyed series another wonder woman hero show interesting charming like \n",
            "Original summary: covert affairs season \n",
            "1/1 [==============================] - 0s 99ms/step\n",
            "1/1 [==============================] - 0s 28ms/step\n",
            "1/1 [==============================] - 0s 41ms/step\n",
            "1/1 [==============================] - 0s 43ms/step\n",
            "Predicted summary:  five stars\n",
            "\n",
            "\n",
            "Review: love adventure time good cartoon show best one cartoon long time would recommend \n",
            "Original summary: great show \n",
            "1/1 [==============================] - 0s 134ms/step\n",
            "1/1 [==============================] - 0s 46ms/step\n",
            "1/1 [==============================] - 0s 43ms/step\n",
            "1/1 [==============================] - 0s 36ms/step\n",
            "Predicted summary:  love it\n",
            "\n",
            "\n",
            "Review: first heard show thinking oh kind lame show mean aliens really start watching hooked \n",
            "Original summary: star \n",
            "1/1 [==============================] - 0s 153ms/step\n",
            "1/1 [==============================] - 0s 37ms/step\n",
            "1/1 [==============================] - 0s 43ms/step\n",
            "1/1 [==============================] - 0s 39ms/step\n",
            "Predicted summary:  good show\n",
            "\n",
            "\n",
            "Review: written garry trudeau goodman scenery southern senator could ask laws two things one watch made deals laws made fictional almost true house senators laugh keep weeping people \n",
            "Original summary: comedy full of \n",
            "1/1 [==============================] - 0s 139ms/step\n",
            "1/1 [==============================] - 0s 46ms/step\n",
            "1/1 [==============================] - 0s 41ms/step\n",
            "1/1 [==============================] - 0s 45ms/step\n",
            "Predicted summary:  good movie\n",
            "\n",
            "\n",
            "Review: enjoyed almost every episode like new information watching show hope able see many \n",
            "Original summary: great new information \n",
            "1/1 [==============================] - 0s 184ms/step\n",
            "1/1 [==============================] - 0s 41ms/step\n",
            "1/1 [==============================] - 0s 25ms/step\n",
            "1/1 [==============================] - 0s 26ms/step\n",
            "Predicted summary:  love it\n",
            "\n",
            "\n",
            "Review: disappointing movie plenty great effects great story acting anything thought would much better \n",
            "Original summary: it is okay \n",
            "1/1 [==============================] - 0s 97ms/step\n",
            "1/1 [==============================] - 0s 29ms/step\n",
            "1/1 [==============================] - 0s 26ms/step\n",
            "1/1 [==============================] - 0s 28ms/step\n",
            "Predicted summary:  good movie\n",
            "\n",
            "\n",
            "Review: love love drama angry one second laughing another reminds friends \n",
            "Original summary: dance moms rocks \n",
            "1/1 [==============================] - 0s 108ms/step\n",
            "1/1 [==============================] - 0s 26ms/step\n",
            "1/1 [==============================] - 0s 25ms/step\n",
            "1/1 [==============================] - 0s 26ms/step\n",
            "Predicted summary:  love it\n",
            "\n",
            "\n",
            "Review: type shows get bold trend becomes popular could really film type events would change world know would represent true proof paranormal would massive investigation attention sorry guys gals fake \n",
            "Original summary: entertaining but fake \n",
            "1/1 [==============================] - 0s 100ms/step\n",
            "1/1 [==============================] - 0s 47ms/step\n",
            "1/1 [==============================] - 0s 51ms/step\n",
            "1/1 [==============================] - 0s 46ms/step\n",
            "Predicted summary:  not bad\n",
            "\n",
            "\n",
            "Review: great show started watching catherine bell love jag looking another show much show beautifully \n",
            "Original summary: love \n",
            "1/1 [==============================] - 0s 156ms/step\n",
            "1/1 [==============================] - 0s 43ms/step\n",
            "1/1 [==============================] - 0s 37ms/step\n",
            "1/1 [==============================] - 0s 37ms/step\n",
            "1/1 [==============================] - 0s 36ms/step\n",
            "Predicted summary:  love this show\n",
            "\n",
            "\n",
            "Review: would see show appealing wide audience new idea presenting learning opportunities like premise visually appealing ages could find interesting easy watch \n",
            "Original summary: great potential for learning \n",
            "1/1 [==============================] - 0s 154ms/step\n",
            "1/1 [==============================] - 0s 38ms/step\n",
            "1/1 [==============================] - 0s 43ms/step\n",
            "1/1 [==============================] - 0s 38ms/step\n",
            "Predicted summary:  not bad\n",
            "\n",
            "\n",
            "Review: never get enough show wish amazon offered seasons \n",
            "Original summary: five stars \n",
            "1/1 [==============================] - 0s 153ms/step\n",
            "1/1 [==============================] - 0s 45ms/step\n",
            "1/1 [==============================] - 0s 36ms/step\n",
            "1/1 [==============================] - 0s 39ms/step\n",
            "Predicted summary:  five stars\n",
            "\n",
            "\n",
            "Review: good show wish seasons definitely worth watching like detective shows also watch two seasons \n",
            "Original summary: worth watching \n",
            "1/1 [==============================] - 0s 134ms/step\n",
            "1/1 [==============================] - 0s 29ms/step\n",
            "1/1 [==============================] - 0s 24ms/step\n",
            "1/1 [==============================] - 0s 25ms/step\n",
            "Predicted summary:  love it\n",
            "\n",
            "\n",
            "Review: liked story line programs nice see main character major bad could found actually blind although young man playing part good believable job program \n",
            "Original summary: part done \n",
            "1/1 [==============================] - 0s 98ms/step\n",
            "1/1 [==============================] - 0s 25ms/step\n",
            "1/1 [==============================] - 0s 25ms/step\n",
            "1/1 [==============================] - 0s 36ms/step\n",
            "Predicted summary:  good show\n",
            "\n",
            "\n",
            "Review: choose rating one favorite shows fan since season would recommend show anyone likes action adventure good mystery every plot line really good cast awesome seasons person interest dvd definitely hooked \n",
            "Original summary: person of interest season \n",
            "1/1 [==============================] - 0s 94ms/step\n",
            "1/1 [==============================] - 0s 25ms/step\n",
            "1/1 [==============================] - 0s 25ms/step\n",
            "1/1 [==============================] - 0s 25ms/step\n",
            "1/1 [==============================] - 0s 25ms/step\n",
            "Predicted summary:  love this show\n",
            "\n",
            "\n",
            "Review: show fresh idea age old tale good special effects acting add must watch fi fans \n",
            "Original summary: fun show \n",
            "1/1 [==============================] - 0s 94ms/step\n",
            "1/1 [==============================] - 0s 23ms/step\n",
            "1/1 [==============================] - 0s 28ms/step\n",
            "1/1 [==============================] - 0s 36ms/step\n",
            "Predicted summary:  good show\n",
            "\n",
            "\n",
            "Review: second season brings back favorite characters make longmire hit strong writing interesting plots unexpected twists \n",
            "Original summary: longmire comes on strong \n",
            "1/1 [==============================] - 0s 94ms/step\n",
            "1/1 [==============================] - 0s 26ms/step\n",
            "1/1 [==============================] - 0s 25ms/step\n",
            "1/1 [==============================] - 0s 29ms/step\n",
            "1/1 [==============================] - 0s 25ms/step\n",
            "Predicted summary:  love this show\n",
            "\n",
            "\n",
            "Review: love swamp people first three shows season five new though seasons \n",
            "Original summary: swamp swamp swamp people \n",
            "1/1 [==============================] - 0s 96ms/step\n",
            "1/1 [==============================] - 0s 24ms/step\n",
            "1/1 [==============================] - 0s 25ms/step\n",
            "1/1 [==============================] - 0s 26ms/step\n",
            "Predicted summary:  love it\n",
            "\n",
            "\n",
            "Review: last season got well slow hope one picks little slow somewhat predictable still love show \n",
            "Original summary: down \n",
            "1/1 [==============================] - 0s 94ms/step\n",
            "1/1 [==============================] - 0s 27ms/step\n",
            "1/1 [==============================] - 0s 29ms/step\n",
            "1/1 [==============================] - 0s 26ms/step\n",
            "Predicted summary:  good show\n",
            "\n",
            "\n",
            "Review: love show balance characters great story writing make one winner book second breaking bad \n",
            "Original summary: fantastic \n",
            "1/1 [==============================] - 0s 106ms/step\n",
            "1/1 [==============================] - 0s 27ms/step\n",
            "1/1 [==============================] - 0s 25ms/step\n",
            "1/1 [==============================] - 0s 29ms/step\n",
            "Predicted summary:  great show\n",
            "\n",
            "\n",
            "Review: love dynasty series really like able watch commercial free whenever want series continue buy long make \n",
            "Original summary: big fan \n",
            "1/1 [==============================] - 0s 100ms/step\n",
            "1/1 [==============================] - 0s 25ms/step\n",
            "1/1 [==============================] - 0s 29ms/step\n",
            "1/1 [==============================] - 0s 26ms/step\n",
            "Predicted summary:  love it\n",
            "\n",
            "\n",
            "Review: family really come like show glad dvd watch \n",
            "Original summary: longmire the complete first season \n",
            "1/1 [==============================] - 0s 97ms/step\n",
            "1/1 [==============================] - 0s 25ms/step\n",
            "1/1 [==============================] - 0s 24ms/step\n",
            "1/1 [==============================] - 0s 24ms/step\n",
            "Predicted summary:  love it\n",
            "\n",
            "\n",
            "Review: like early seasons much gripping mid years hints greater season would say spoil seen yet \n",
            "Original summary: really good \n",
            "1/1 [==============================] - 0s 105ms/step\n",
            "1/1 [==============================] - 0s 25ms/step\n",
            "1/1 [==============================] - 0s 26ms/step\n",
            "1/1 [==============================] - 0s 26ms/step\n",
            "Predicted summary:  great show\n",
            "\n",
            "\n",
            "Review: admit took awhile watch series truly impressed like authentic feel sets fact incorporated actual historic people story line made keep watching highly recommend \n",
            "Original summary: great series \n",
            "1/1 [==============================] - 0s 94ms/step\n",
            "1/1 [==============================] - 0s 27ms/step\n",
            "1/1 [==============================] - 0s 26ms/step\n",
            "1/1 [==============================] - 0s 26ms/step\n",
            "Predicted summary:  great series\n",
            "\n",
            "\n",
            "Review: moving series good guy end worthwhile series watch scenery west ireland beautiful \n",
            "Original summary: liked it \n",
            "1/1 [==============================] - 0s 131ms/step\n",
            "1/1 [==============================] - 0s 40ms/step\n",
            "1/1 [==============================] - 0s 43ms/step\n",
            "1/1 [==============================] - 0s 40ms/step\n",
            "Predicted summary:  good series\n",
            "\n",
            "\n",
            "Review: good show wife even likes makes pleasure watch show together gives interesting take rise las vegas bad last longer single season \n",
            "Original summary: review of vegas season \n",
            "1/1 [==============================] - 0s 146ms/step\n",
            "1/1 [==============================] - 0s 36ms/step\n",
            "1/1 [==============================] - 0s 35ms/step\n",
            "1/1 [==============================] - 0s 42ms/step\n",
            "Predicted summary:  great show\n",
            "\n",
            "\n"
          ]
        }
      ],
      "source": [
        "for i in range(0,100):\n",
        "    print(\"Review:\",seq2text(x_tr[i]))\n",
        "    print(\"Original summary:\",seq2summary(y_tr[i]))\n",
        "    print(\"Predicted summary:\",decode_sequence(x_tr[i].reshape(1,max_text_len)))\n",
        "    print(\"\\n\")"
      ]
    }
  ],
  "metadata": {
    "colab": {
      "provenance": [],
      "gpuType": "V28"
    },
    "kernelspec": {
      "display_name": "Python 3",
      "name": "python3"
    },
    "language_info": {
      "codemirror_mode": {
        "name": "ipython",
        "version": 3
      },
      "file_extension": ".py",
      "mimetype": "text/x-python",
      "name": "python",
      "nbconvert_exporter": "python",
      "pygments_lexer": "ipython3",
      "version": "3.11.5"
    },
    "accelerator": "TPU"
  },
  "nbformat": 4,
  "nbformat_minor": 0
}